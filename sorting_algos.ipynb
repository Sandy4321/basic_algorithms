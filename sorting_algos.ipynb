{
 "metadata": {
  "name": "",
  "signature": "sha256:ae78a041d0a3569e04aabf6ca0314e59af19ce181384d574416613e09f03374c"
 },
 "nbformat": 3,
 "nbformat_minor": 0,
 "worksheets": [
  {
   "cells": [
    {
     "cell_type": "code",
     "collapsed": false,
     "input": [
      "import random"
     ],
     "language": "python",
     "metadata": {},
     "outputs": [],
     "prompt_number": 1
    },
    {
     "cell_type": "code",
     "collapsed": false,
     "input": [
      "# Binary search\n",
      "\n",
      "#     0  1  2  3  4  5  6   7\n",
      "ls = [1, 2, 3, 6, 7, 9, 13, 16]\n",
      "\n",
      "def binary_search(elem, ls):\n",
      "    \"\"\"\n",
      "    Search for the given elem in the given list and return the index.\n",
      "    Return -1 is the elem was not found.\n",
      "    \"\"\"\n",
      "    low = 0\n",
      "    high = len(ls)-1\n",
      "    while True:\n",
      "        middle = low + ((high - low) / 2)\n",
      "        if ls[middle] == elem:\n",
      "            return middle\n",
      "        if low == high:\n",
      "            return -1\n",
      "        elif ls[middle] > elem:\n",
      "            high = middle - 1\n",
      "        elif ls[middle] < elem:\n",
      "            low = middle + 1\n",
      "\n",
      "print binary_search(4, ls)\n",
      "print [ binary_search(i, ls) for i in ls]"
     ],
     "language": "python",
     "metadata": {},
     "outputs": [
      {
       "output_type": "stream",
       "stream": "stdout",
       "text": [
        "-1\n",
        "[0, 1, 2, 3, 4, 5, 6, 7]\n"
       ]
      }
     ],
     "prompt_number": 2
    },
    {
     "cell_type": "code",
     "collapsed": false,
     "input": [
      "# Quicksort\n",
      "\n",
      "def quicksort(ls):\n",
      "    \"\"\"\n",
      "    Sort the given list inplace.\n",
      "    \"\"\"\n",
      "    quicksort_rec(ls, 0, len(ls)-1)\n",
      "\n",
      "def quicksort_rec(ls, start, stop):\n",
      "    \"\"\"\n",
      "    Sort the given list between start and stop inplace\n",
      "    \"\"\"\n",
      "    if start >= stop:\n",
      "        return\n",
      "    else:\n",
      "        # partition\n",
      "        part_idx = partition(ls, start, stop)\n",
      "        # sort left and right\n",
      "        quicksort_rec(ls, start, part_idx)\n",
      "        quicksort_rec(ls, part_idx+1, stop)\n",
      "    \n",
      "def partition(ls, start, stop):\n",
      "    \"\"\"\n",
      "    parition the given list between start and stop, so that all elements smaller \n",
      "    than ls[start] are to the left of ls[start] and all bigger are to the right \n",
      "    of ls[start].\n",
      "    Return the partition index\n",
      "    \"\"\"\n",
      "    part_elem = ls[start]\n",
      "    idx_left = start + 1\n",
      "    idx_right = stop\n",
      "    while idx_left < idx_right:\n",
      "        if ls[idx_left] > part_elem:\n",
      "            if ls[idx_right] > part_elem:\n",
      "                # If the element on the left needs to be moved to the right\n",
      "                # but the right element needs to stay right,\n",
      "                # get the next right element.\n",
      "                idx_right -= 1\n",
      "            else:\n",
      "                # ls[idx_right] <= part_elem\n",
      "                # If the element on the left needs to be moved to the right\n",
      "                # and the right element needs to be moved to the left: swap and update both indices\n",
      "                ls[idx_left], ls[idx_right] = ls[idx_right], ls[idx_left]\n",
      "                idx_left += 1\n",
      "                idx_right -= 1\n",
      "        else:\n",
      "            # ls[idx_left] <= part_elem\n",
      "            # Index on the left is at right place, update index\n",
      "            idx_left += 1\n",
      "    if ls[idx_left] > part_elem:\n",
      "        idx_left -= 1\n",
      "    # move the current elemnt at the previous smaller index to the beginning\n",
      "    ls[start] = ls[idx_left]\n",
      "    ls[idx_left] = part_elem\n",
      "    return idx_left\n",
      "            \n",
      "ls = random.sample(range(1, 10), 8)\n",
      "print ls\n",
      "quicksort(ls)\n",
      "print ls"
     ],
     "language": "python",
     "metadata": {},
     "outputs": [
      {
       "output_type": "stream",
       "stream": "stdout",
       "text": [
        "[3, 8, 9, 1, 5, 7, 6, 4]\n",
        "[1, 3, 4, 5, 6, 7, 8, 9]\n"
       ]
      }
     ],
     "prompt_number": 108
    }
   ],
   "metadata": {}
  }
 ]
}