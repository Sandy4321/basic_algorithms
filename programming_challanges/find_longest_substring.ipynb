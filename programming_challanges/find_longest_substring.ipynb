{
 "metadata": {
  "name": "",
  "signature": "sha256:c6761f0768f3a3301df4b399d5892ddabbc2fd7cafdd73f2efc13481029b31cd"
 },
 "nbformat": 3,
 "nbformat_minor": 0,
 "worksheets": [
  {
   "cells": [
    {
     "cell_type": "code",
     "collapsed": false,
     "input": [
      "# Given string like this: ccaababbaccbabbcc. \n",
      "# Find the longest contiguous substring made up of only two distinct chars."
     ],
     "language": "python",
     "metadata": {},
     "outputs": [],
     "prompt_number": 29
    },
    {
     "cell_type": "code",
     "collapsed": false,
     "input": [
      "given_string = 'ccaababbaccbabbcc'"
     ],
     "language": "python",
     "metadata": {},
     "outputs": [],
     "prompt_number": 30
    },
    {
     "cell_type": "code",
     "collapsed": false,
     "input": [
      "def find_longest_substring_distinct(s):\n",
      "    \"\"\"\n",
      "    Find the longest substring made up of only 2 distint chars in s.\n",
      "    \"\"\"\n",
      "    # max_length holds a tuple (max_length, start_idx, stop_idx)\n",
      "    max_length = (0,0,0)\n",
      "    left_idx = 0\n",
      "    right_idx = 0\n",
      "    # dictionary to hold the character count between the left and the right index\n",
      "    char_dict = {s[0]:1}\n",
      "    # iterate over string and update the right index\n",
      "    while right_idx < len(s)-1:\n",
      "        if len(char_dict) <= 2:\n",
      "            # update max length if the current substring is longer than the\n",
      "            # current maxlength substring\n",
      "            new_length = right_idx - left_idx + 1\n",
      "            if new_length > max_length[0]:\n",
      "                max_length = (new_length, left_idx, right_idx)\n",
      "            # update the right index and the char_dict\n",
      "            right_idx += 1\n",
      "            right_char = s[right_idx]\n",
      "            if right_char in char_dict:\n",
      "                char_dict[right_char] += 1\n",
      "            else:\n",
      "                char_dict[right_char] = 1\n",
      "        else:  # len(char_dict) > 2\n",
      "            # start updating the left index\n",
      "            left_char = s[left_idx]\n",
      "            char_dict[left_char] -= 1\n",
      "            if char_dict[left_char] == 0:\n",
      "                del char_dict[left_char]\n",
      "            left_idx += 1\n",
      "#         print left_idx, right_idx, s[left_idx:right_idx+1], len(char_dict), char_dict\n",
      "    return s[max_length[1]:max_length[2]+1], max_length[0], max_length[1], max_length[2]"
     ],
     "language": "python",
     "metadata": {},
     "outputs": [],
     "prompt_number": 31
    },
    {
     "cell_type": "code",
     "collapsed": false,
     "input": [
      "print find_longest_substring_distinct(given_string)"
     ],
     "language": "python",
     "metadata": {},
     "outputs": [
      {
       "output_type": "stream",
       "stream": "stdout",
       "text": [
        "('aababba', 7, 2, 8)\n"
       ]
      }
     ],
     "prompt_number": 32
    }
   ],
   "metadata": {}
  }
 ]
}