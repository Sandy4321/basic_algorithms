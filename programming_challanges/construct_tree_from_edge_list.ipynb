{
 "metadata": {
  "name": "",
  "signature": "sha256:4a85674fa862a6cb501f35c2a563c6be65ce86e4a42556e0efaaeb370780bf16"
 },
 "nbformat": 3,
 "nbformat_minor": 0,
 "worksheets": [
  {
   "cells": [
    {
     "cell_type": "code",
     "collapsed": false,
     "input": [
      "from collections import defaultdict\n",
      "import json"
     ],
     "language": "python",
     "metadata": {},
     "outputs": [],
     "prompt_number": 1
    },
    {
     "cell_type": "code",
     "collapsed": false,
     "input": [
      "# Example from http://xahlee.info/perl-python/python_construct_tree_from_edge.html\n",
      "# edge is [child, parent] list\n",
      "edges = [[0, 6], [17, 5], [2, 7], [4, 14], [12, 9], [15, 5], \n",
      "         [11, 1], [14, 8], [16, 6], [5, 1], [10, 7], [6, 10], [8, 2], [13, 1], \n",
      "         [1, 12], [7, 1], [3, 2], [19, 12], [18, 19]]"
     ],
     "language": "python",
     "metadata": {},
     "outputs": [],
     "prompt_number": 2
    },
    {
     "cell_type": "code",
     "collapsed": false,
     "input": [
      "def construct_tree(ls_of_edges):\n",
      "    \"\"\"\n",
      "    Construct a tree given a list of edges\n",
      "    \"\"\"\n",
      "    # Represent the tree as a dictionary.\n",
      "    # Each node is represented as a dictionary that holds references to its children.\n",
      "    # Use a defaultdict, so that upon the first access of each element\n",
      "    #  that element refers to an empty dictonary\n",
      "    # https://docs.python.org/2/library/collections.html#collections.defaultdict\n",
      "    tree = defaultdict(dict)\n",
      "    # To find the root hold a set of parents and a set of children\n",
      "    child_set = set()\n",
      "    parent_set = set()\n",
      "    # fill the dictionary\n",
      "    for child, parent in ls_of_edges:\n",
      "        # The parent holds the child nodes.\n",
      "        tree[parent][child] = tree[child]\n",
      "        # Get all the children and parents from the list of edges\n",
      "        child_set.add(child)\n",
      "        parent_set.add(parent)\n",
      "    # Get and return the root\n",
      "    root = parent_set.difference(child_set).pop()\n",
      "    # Get the tree under the root and append the root as the root node\n",
      "    return {9: tree[root]}"
     ],
     "language": "python",
     "metadata": {},
     "outputs": [],
     "prompt_number": 3
    },
    {
     "cell_type": "code",
     "collapsed": false,
     "input": [
      "print json.dumps(construct_tree(edges), indent=1)"
     ],
     "language": "python",
     "metadata": {},
     "outputs": [
      {
       "output_type": "stream",
       "stream": "stdout",
       "text": [
        "{\n",
        " \"9\": {\n",
        "  \"12\": {\n",
        "   \"1\": {\n",
        "    \"7\": {\n",
        "     \"2\": {\n",
        "      \"8\": {\n",
        "       \"14\": {\n",
        "        \"4\": {}\n",
        "       }\n",
        "      }, \n",
        "      \"3\": {}\n",
        "     }, \n",
        "     \"10\": {\n",
        "      \"6\": {\n",
        "       \"0\": {}, \n",
        "       \"16\": {}\n",
        "      }\n",
        "     }\n",
        "    }, \n",
        "    \"11\": {}, \n",
        "    \"5\": {\n",
        "     \"17\": {}, \n",
        "     \"15\": {}\n",
        "    }, \n",
        "    \"13\": {}\n",
        "   }, \n",
        "   \"19\": {\n",
        "    \"18\": {}\n",
        "   }\n",
        "  }\n",
        " }\n",
        "}\n"
       ]
      }
     ],
     "prompt_number": 4
    }
   ],
   "metadata": {}
  }
 ]
}