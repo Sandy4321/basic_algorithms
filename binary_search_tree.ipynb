{
 "metadata": {
  "name": "",
  "signature": "sha256:7d794536e0660e452068289e5ebbc01903c3f408436d19d8280a74d538173d95"
 },
 "nbformat": 3,
 "nbformat_minor": 0,
 "worksheets": [
  {
   "cells": [
    {
     "cell_type": "code",
     "collapsed": false,
     "input": [
      "%load_ext autoreload\n",
      "%autoreload 2\n",
      "\n",
      "from binary_search_tree import BST\n",
      "from red_black_tree import RedBlackTree\n",
      "import random"
     ],
     "language": "python",
     "metadata": {},
     "outputs": [],
     "prompt_number": 1
    },
    {
     "cell_type": "code",
     "collapsed": false,
     "input": [
      "tree = BST()\n",
      "print tree\n",
      "\n",
      "sample = random.sample(range(1, 20), 8)\n",
      "for x in sample:\n",
      "    tree.put(x)\n",
      "    print tree\n",
      "    \n",
      "print 'min: ', tree.min()\n",
      "print 'max: ', tree.max()\n",
      "\n",
      "# while not tree.root is None:\n",
      "#     tree.delete_min()\n",
      "#     print tree\n",
      "\n",
      "for i in sample:\n",
      "    tree.delete(i)\n",
      "    print 'del: ', i , ' result: ', tree"
     ],
     "language": "python",
     "metadata": {},
     "outputs": [
      {
       "output_type": "stream",
       "stream": "stdout",
       "text": [
        "None\n",
        "{11}\n",
        "{{10}11}\n",
        "{{10}11{15}}\n",
        "{{{5}10}11{15}}\n",
        "{{{5}10}11{{12}15}}\n",
        "{{{5{7}}10}11{{12}15}}\n",
        "{{{5{7}}10}11{{12{13}}15}}\n",
        "{{{5{7{8}}}10}11{{12{13}}15}}\n",
        "min:  5\n",
        "max:  15\n",
        "del:  11  result:  {{{5{7{8}}}10}12{{13}15}}\n",
        "del:  10  result:  {{5{7{8}}}12{{13}15}}\n",
        "del:  15  result:  {{5{7{8}}}12{13}}\n",
        "del:  5  result:  {{7{8}}12{13}}\n",
        "del:  12  result:  {{7{8}}13}\n",
        "del:  7  result:  {{8}13}\n",
        "del:  13  result:  {8}\n",
        "del:  8  result:  None\n"
       ]
      }
     ],
     "prompt_number": 2
    },
    {
     "cell_type": "code",
     "collapsed": false,
     "input": [
      "tree = RedBlackTree()\n",
      "print tree\n",
      "\n",
      "sample = random.sample(range(1, 20), 8)\n",
      "for x in sample:\n",
      "    tree.put(x)\n",
      "    print 'x: ', x, 'tree: ', tree\n",
      "    \n",
      "print 'min: ', tree.min()\n",
      "print 'max: ', tree.max()"
     ],
     "language": "python",
     "metadata": {},
     "outputs": [
      {
       "output_type": "stream",
       "stream": "stdout",
       "text": [
        "None\n",
        "x:  14 tree:  {14}\n",
        "x:  6 tree:  {{6}14}\n",
        "x:  8 tree:  {{6}8{14}}\n",
        "x:  3 tree:  {{3}6{8{14}}}\n",
        "x:  17 tree:  {{3}6{8{{14}17}}}\n",
        "x:  11 tree:  {{3}6{{8{11}}14{17}}}\n",
        "x:  18 tree:  {{3}6{{8{11}}14{{17}18}}}\n",
        "x:  7 tree:  {{3}6{{{7}8{11}}14{{17}18}}}\n",
        "min:  3\n",
        "max:  18\n"
       ]
      }
     ],
     "prompt_number": 5
    }
   ],
   "metadata": {}
  }
 ]
}