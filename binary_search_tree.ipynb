{
 "metadata": {
  "name": "",
  "signature": "sha256:ac6e969a4948f3547f0e0185c239cb64acaa97eb16f9d60f0e8aa0df41783f51"
 },
 "nbformat": 3,
 "nbformat_minor": 0,
 "worksheets": [
  {
   "cells": [
    {
     "cell_type": "code",
     "collapsed": false,
     "input": [
      "%load_ext autoreload\n",
      "%autoreload 2\n",
      "\n",
      "from binary_search_tree import Node, BST\n",
      "import random"
     ],
     "language": "python",
     "metadata": {},
     "outputs": [],
     "prompt_number": 1
    },
    {
     "cell_type": "code",
     "collapsed": false,
     "input": [
      "tree = BST()\n",
      "print tree\n",
      "\n",
      "sample = random.sample(range(1, 20), 8)\n",
      "for x in sample:\n",
      "    tree.put(x)\n",
      "    print tree\n",
      "    \n",
      "print 'min: ', tree.min()\n",
      "print 'max: ', tree.max()\n",
      "\n",
      "# while not tree.root is None:\n",
      "#     tree.delete_min()\n",
      "#     print tree\n",
      "\n",
      "for i in sample:\n",
      "    tree.delete(i)\n",
      "    print 'del: ', i , ' result: ', tree"
     ],
     "language": "python",
     "metadata": {},
     "outputs": [
      {
       "output_type": "stream",
       "stream": "stdout",
       "text": [
        "None\n",
        "{11}\n",
        "{11{15}}\n",
        "{{3}11{15}}\n",
        "{{3}11{{13}15}}\n",
        "{{3}11{{13}15{19}}}\n",
        "{{3{7}}11{{13}15{19}}}\n",
        "{{3{7{10}}}11{{13}15{19}}}\n",
        "{{3{7{10}}}11{{13}15{{17}19}}}\n",
        "min:  3\n",
        "max:  19\n",
        "del:  11  result:  {{3{7{10}}}13{15{{17}19}}}\n",
        "del:  15  result:  {{3{7{10}}}13{{17}19}}\n",
        "del:  3  result:  {{7{10}}13{{17}19}}\n",
        "del:  13  result:  {{7{10}}17{19}}\n",
        "del:  19  result:  {{7{10}}17}\n",
        "del:  7  result:  {{10}17}\n",
        "del:  10  result:  {17}\n",
        "del:  17  result:  None\n"
       ]
      }
     ],
     "prompt_number": 4
    }
   ],
   "metadata": {}
  }
 ]
}