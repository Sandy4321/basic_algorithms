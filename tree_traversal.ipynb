{
 "metadata": {
  "name": "",
  "signature": "sha256:a09e387a958d63415c0b8e0537f556419c423605b0ceceecb6c7f97568a17f09"
 },
 "nbformat": 3,
 "nbformat_minor": 0,
 "worksheets": [
  {
   "cells": [
    {
     "cell_type": "code",
     "collapsed": false,
     "input": [
      "%load_ext autoreload\n",
      "%autoreload 2\n",
      "\n",
      "from __future__ import print_function\n",
      "from collections import deque"
     ],
     "language": "python",
     "metadata": {},
     "outputs": [],
     "prompt_number": 1
    },
    {
     "cell_type": "code",
     "collapsed": false,
     "input": [
      "# Follow examples from wikipedia: http://en.wikipedia.org/wiki/Tree_traversal\n",
      "tree = ('F',\n",
      "        ('B',\n",
      "         ('A', None, None),\n",
      "         ('D',\n",
      "          ('C', None, None),\n",
      "          ('E', None, None))),\n",
      "        ('G', \n",
      "         None, \n",
      "         ('I', \n",
      "          ('H', None, None),\n",
      "          None)))"
     ],
     "language": "python",
     "metadata": {},
     "outputs": [],
     "prompt_number": 2
    },
    {
     "cell_type": "code",
     "collapsed": false,
     "input": [
      "# Print Pre-order: F, B, A, D, C, E, G, I, H\n",
      "\n",
      "def print_pre_order(tree):\n",
      "    if tree: # if not None\n",
      "        print(tree[0], end=\", \")  # Print current node\n",
      "        print_pre_order(tree[1])  # Print left\n",
      "        print_pre_order(tree[2])  # Print right\n",
      "        \n",
      "print_pre_order(tree)"
     ],
     "language": "python",
     "metadata": {},
     "outputs": [
      {
       "output_type": "stream",
       "stream": "stdout",
       "text": [
        "F, B, A, D, C, E, G, I, H, "
       ]
      }
     ],
     "prompt_number": 3
    },
    {
     "cell_type": "code",
     "collapsed": false,
     "input": [
      "# Print In-order: A, B, C, D, E, F, G, H, I\n",
      "\n",
      "def print_in_order(tree):\n",
      "    if tree: # if not None\n",
      "        print_in_order(tree[1])  # Print left\n",
      "        print(tree[0], end=\", \")  # Print current node\n",
      "        print_in_order(tree[2])  # Print right\n",
      "        \n",
      "print_in_order(tree)"
     ],
     "language": "python",
     "metadata": {},
     "outputs": [
      {
       "output_type": "stream",
       "stream": "stdout",
       "text": [
        "A, B, C, D, E, F, G, H, I, "
       ]
      }
     ],
     "prompt_number": 4
    },
    {
     "cell_type": "code",
     "collapsed": false,
     "input": [
      "# Print Post-order: A, C, E, D, B, H, I, G, F\n",
      "\n",
      "def print_post_order(tree):\n",
      "    if tree: # if not None\n",
      "        print_post_order(tree[1])  # Print left\n",
      "        print_post_order(tree[2])  # Print right\n",
      "        print(tree[0], end=\", \")  # Print current node\n",
      "        \n",
      "print_post_order(tree)"
     ],
     "language": "python",
     "metadata": {},
     "outputs": [
      {
       "output_type": "stream",
       "stream": "stdout",
       "text": [
        "A, C, E, D, B, H, I, G, F, "
       ]
      }
     ],
     "prompt_number": 5
    },
    {
     "cell_type": "code",
     "collapsed": false,
     "input": [
      "# Print Level-order: F, B, G, A, D, I, C, E, H\n",
      "\n",
      "def print_queue(queue):\n",
      "    node = queue.popleft()\n",
      "    if node: # if not None\n",
      "        print(node[0], end=\", \") # print first node in queue\n",
      "        # add rest to queue\n",
      "        queue.append(node[1])\n",
      "        queue.append(node[2])\n",
      "\n",
      "def print_level_order(tree):\n",
      "    queue = deque() # Queue to hold the bread first search\n",
      "    queue.append(tree)\n",
      "    while queue:\n",
      "        print_queue(queue)\n",
      "        \n",
      "print_level_order(tree)"
     ],
     "language": "python",
     "metadata": {},
     "outputs": [
      {
       "output_type": "stream",
       "stream": "stdout",
       "text": [
        "F, B, G, A, D, I, C, E, H, "
       ]
      }
     ],
     "prompt_number": 6
    }
   ],
   "metadata": {}
  }
 ]
}