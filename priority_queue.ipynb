{
 "metadata": {
  "name": "",
  "signature": "sha256:53b7de4b7eae958db37b2c9d81b9695ef09f266b535d51306d39a5ea31efe6b8"
 },
 "nbformat": 3,
 "nbformat_minor": 0,
 "worksheets": [
  {
   "cells": [
    {
     "cell_type": "code",
     "collapsed": false,
     "input": [
      "%load_ext autoreload\n",
      "%autoreload 2\n",
      "\n",
      "from priority_queue import BinaryHeap\n",
      "import random"
     ],
     "language": "python",
     "metadata": {},
     "outputs": [],
     "prompt_number": 1
    },
    {
     "cell_type": "code",
     "collapsed": false,
     "input": [
      "pq = BinaryHeap()\n",
      "\n",
      "sample = random.sample(range(1, 20), 8)\n",
      "\n",
      "for s in sample:\n",
      "    pq.insert(s)\n",
      "    print pq.max(), pq.heap\n",
      "\n",
      "print '\\nstart emptying the heap'\n",
      "while not pq.is_empty():\n",
      "    m = pq.delete_max()\n",
      "    print m, pq.heap"
     ],
     "language": "python",
     "metadata": {},
     "outputs": [
      {
       "output_type": "stream",
       "stream": "stdout",
       "text": [
        "18 [None, 18]\n",
        "18 [None, 18, 3]\n",
        "19 [None, 19, 3, 18]\n",
        "19 [None, 19, 11, 18, 3]\n",
        "19 [None, 19, 13, 18, 3, 11]\n",
        "19 [None, 19, 13, 18, 3, 11, 6]\n",
        "19 [None, 19, 13, 18, 3, 11, 6, 9]\n",
        "19 [None, 19, 13, 18, 10, 11, 6, 9, 3]\n",
        "\n",
        "start emptying the heap\n",
        "19 [None, 18, 13, 9, 10, 11, 6, 3]\n",
        "18 [None, 13, 11, 9, 10, 3, 6]\n",
        "13 [None, 11, 10, 9, 6, 3]\n",
        "11 [None, 10, 6, 9, 3]\n",
        "10 [None, 9, 6, 3]\n",
        "9 [None, 6, 3]\n",
        "6 [None, 3]\n",
        "3 [None]\n"
       ]
      }
     ],
     "prompt_number": 2
    }
   ],
   "metadata": {}
  }
 ]
}